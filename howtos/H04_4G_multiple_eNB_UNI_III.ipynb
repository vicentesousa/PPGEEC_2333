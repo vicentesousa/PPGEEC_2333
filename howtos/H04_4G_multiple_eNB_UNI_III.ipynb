{
 "cells": [
  {
   "cell_type": "markdown",
   "metadata": {},
   "source": [
    "## Configuration of 4G RAN of Open Air Interface (OAI) with multiple eNBs \n",
    "## Objectives\n",
    "- Configure multiple OAI eNBs \n"
   ]
  },
  {
   "cell_type": "markdown",
   "metadata": {},
   "source": [
    "## Multiple eNB Configuration\n",
    "\n",
    "To connect multiple eNBs, follow the steps below in a new Linux Terminal:\n",
    "\n",
    "**Step 1:** Make a copy of the configuration file used to connect the first gNB: \n",
    "\n",
    "cd /home/dco1020/openairinterface5g/ci-scripts/conf_files\n",
    "\n",
    "sudo cp enb.band7.25prb.rfsim.conf ./enb2.band7.25prb.rfsim.conf\n",
    "\n",
    "**Attention:** You must change the file name, in the example above \"enb.band7.25prb.rfsim.conf\".\n",
    "\n",
    "**Step 2:**  Change gNB parameters\n",
    "\n",
    "This part you will change the gNB name and ID in (/home/dco1020/openairinterface5g/ci-scripts/conf_files/enb2.band7.25prb.rfsim.conf), such as in figure below.\n",
    "\n",
    "![multiple_eNB_config_](../FIGS/H04_4G_EPC_INI_III/multiple_eNB_config.png)\n",
    "\n",
    "Open file by typing:\n",
    "\n",
    "gedit /home/dco1020/openairinterface5g/ci-scripts/conf_files/enb2.band7.25prb.rfsim.conf\n",
    "\n",
    "**Attention:** The name in \"Active_eNBs\" has to be the same as the parameter \"eNB_name\", in the example of the figure above \"eNB2-OAI\".\n",
    "\n",
    "**Attention:** To connect other eNBs, simply repeat the steps, always entering different names and IDs for each eNB.\n",
    "\n",
    "**Attention:** In the deployment stage, it will be necessary to deploy each gNB separately, on different Linux terminals, simply by changing the file used in the deploy command."
   ]
  }
 ],
 "metadata": {
  "kernelspec": {
   "display_name": "Python 3",
   "language": "python",
   "name": "python3"
  },
  "language_info": {
   "codemirror_mode": {
    "name": "ipython",
    "version": 3
   },
   "file_extension": ".py",
   "mimetype": "text/x-python",
   "name": "python",
   "nbconvert_exporter": "python",
   "pygments_lexer": "ipython3",
   "version": "3.6.2"
  }
 },
 "nbformat": 4,
 "nbformat_minor": 2
}
