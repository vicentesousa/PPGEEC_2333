{
 "cells": [
  {
   "cell_type": "markdown",
   "metadata": {},
   "source": [
    "## Criação de máquina virtual Ubuntu Virtual box (UBUNTU 20.04)\n",
    "## Objetivos\n",
    "As metas desse tutorial são ajudar o usuário a:\n",
    "- Instalar e configurar uma maquina virtual Linux Ubuntu 20.04 LTS (Focal Fossa).\n"
   ]
  },
  {
   "cell_type": "markdown",
   "metadata": {},
   "source": [
    "**Passo 1**: Baixe e instale o VirtualBox em seu computador (para acessar a página de Download [acesse aqui](https://www.virtualbox.org/). Em 2023, você pode encontrar a versão VirtualBox 7.0.12.\n",
    "\n",
    "![Virtual1](../FIGS/H00_virtualbox/virtual_box_novo.png)\n",
    "\n",
    "**Passo 2**: Baixe a iso do Ubuntu 20.04.6 LTS (Focal Fossa). Algumas telas a seguir são exibidas para a versão 20.04.3,  mas a essência da instalação é a mesma. Para acessar essa versão do Ubuntu navegue até **see our alternative downloads**. O arquivo tem o seguinte nome: **ubuntu-20.04.6-desktop-amd64.iso**. Esse download pode demorar, pois a iso tem 4.1 GB!\n",
    "\n",
    "- Versão 64 Bits: [https://ubuntu.com/download/desktop](https://ubuntu.com/download/desktop)\n",
    "\n",
    "![fig_ubuntu1](../FIGS/H00_virtualbox/ubuntu_novo.png)\n",
    "\n",
    "**Passo 3**: Após instalar o Virtualbox e baixar a iso, abra o VirtualBox e clique em **Novo**, e depois na opção **Criar** de acordo com a imagem. Dê um nome a sua máquina, escolha o local que ela será gravada, a imagem, o tipo e a versão da iso. **Não esqueça de escolher para Pular a Instalação Dessasistida!**\n",
    "\n",
    "![fig_Virtual_1](../FIGS/H00_virtualbox/virtual_box1_novo.png)\n",
    "\n",
    "**Passo 4**: Após clicar em **Próximo**, escolha a memória que deseja alocar, o ideal é que seja a metade da memória de sua máquina hospedeira (recomendo pelo menos **8 GB**). Escolha também o número de processadores. O ideal é que sejam 4 CPUs, mas isso dependerá da capacidade de sua máquina. \n",
    "\n",
    "![fig_Virtual_3](../FIGS/H00_virtualbox/virtual-box-memoria_novo.png)\n",
    "\n",
    "**Passo 5**: Após clicar em **Próximo**, especifique **100 GB** de espaço em HD (se tiver pouco espaço em HD, pode criar uma máquina de **60 ou 40 GB**).\n",
    "\n",
    "![fig_VM3_novo](../FIGS/H00_virtualbox/virtual_box3_novo.png)\n",
    "\n",
    "**Passo 6**: Na próxima tela, reveja suas configurações e clique em **Finalizar**. Sua máquina foi criada e está pronto para ser inicializada."
   ]
  }
 ],
 "metadata": {
  "kernelspec": {
   "display_name": "Python 3",
   "language": "python",
   "name": "python3"
  },
  "language_info": {
   "codemirror_mode": {
    "name": "ipython",
    "version": 3
   },
   "file_extension": ".py",
   "mimetype": "text/x-python",
   "name": "python",
   "nbconvert_exporter": "python",
   "pygments_lexer": "ipython3",
   "version": "3.6.2"
  }
 },
 "nbformat": 4,
 "nbformat_minor": 2
}
