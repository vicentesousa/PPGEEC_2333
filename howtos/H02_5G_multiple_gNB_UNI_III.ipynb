{
 "cells": [
  {
   "cell_type": "markdown",
   "metadata": {},
   "source": [
    "## Configuration of 5G RAN of Open Air Interface (OAI) with multiple gNBs \n",
    "## Objectives\n",
    "- Configure multiple OAI gNBs \n"
   ]
  },
  {
   "cell_type": "markdown",
   "metadata": {},
   "source": [
    "## Multiple gNB Configuration in the monolithic mode\n",
    "\n",
    "To connect multiple gNBs, follow the steps below in a new Linux Terminal:\n",
    "\n",
    "**Step 1:** Make a copy of the configuration file used to connect the first gNB: \n",
    "\n",
    "cd /home/dco1020/openairinterface5g/targets/PROJECTS/GENERIC-NR-5GC/CONF\n",
    "\n",
    "sudo cp gnb.sa.band78.fr1.106PRB.usrpb210.conf ./gnb2.sa.band78.fr1.106PRB.usrpb210.conf\n",
    "\n",
    "**Attention:** You must change the file name, in the example above \"gnb2.sa.band78.fr1.106PRB.usrpb210.conf\".\n",
    "\n",
    "**Step 2:**  Change gNB parameters\n",
    "\n",
    "This part you will change the gNB name and ID in (/home/dco1020/openairinterface5g/targets/PROJECTS/GENERIC-NR-5GC/CONF/gnb2.sa.band78.fr1.106PRB.usrpb210.conf), such as in figure below.\n",
    "\n",
    "![multiple_gNB_config_](../FIGS/H02_5GRAN_UNI_III/multiple_gNB_config.png)\n",
    "\n",
    "Open file by typing:\n",
    "\n",
    "gedit /home/dco1020/openairinterface5g/targets/PROJECTS/GENERIC-NR-5GC/CONF/gnb2.sa.band78.fr1.106PRB.usrpb210.conf\n",
    "\n",
    "**Attention:** The name in \"Active_gNBs\" has to be the same as the parameter \"gNB_name\", in the example of the figure above \"gNB2-OAI\".\n",
    "\n",
    "**Attention:** To connect other gNBs, simply repeat the steps, always entering different names and IDs for each gNB.\n",
    "\n",
    "**Attention:** In the deployment stage, it will be necessary to deploy each gNB separately, on different Linux terminals, simply by changing the file used in the deploy command."
   ]
  }
 ],
 "metadata": {
  "kernelspec": {
   "display_name": "Python 3",
   "language": "python",
   "name": "python3"
  },
  "language_info": {
   "codemirror_mode": {
    "name": "ipython",
    "version": 3
   },
   "file_extension": ".py",
   "mimetype": "text/x-python",
   "name": "python",
   "nbconvert_exporter": "python",
   "pygments_lexer": "ipython3",
   "version": "3.6.2"
  }
 },
 "nbformat": 4,
 "nbformat_minor": 2
}
